{
 "cells": [
  {
   "cell_type": "code",
   "execution_count": null,
   "metadata": {},
   "outputs": [],
   "source": [
    "# pip install mysql-connector-python"
   ]
  },
  {
   "cell_type": "code",
   "execution_count": 52,
   "metadata": {},
   "outputs": [],
   "source": [
    "# import mysql.connector\n",
    "# from mysql.connector import Error\n",
    "# import streamlit as st\n",
    "# import pandas as pd\n",
    "\n",
    "# # Import the connection variables\n",
    "# from db_config import db_config\n",
    "\n",
    "# config = db_config\n",
    "\n",
    "# # Create database\n",
    "# def create_db():\n",
    "#     conn = mysql.connector.connect(**config)\n",
    "#     c = conn.cursor()\n",
    "#     c.execute('''\n",
    "#         CREATE TABLE IF NOT EXISTS users (\n",
    "#             username varchar(255) PRIMARY KEY ,\n",
    "#             password varchar(255) NOT NULL\n",
    "#         )\n",
    "#     ''')\n",
    "#     conn.commit()\n",
    "#     conn.close()"
   ]
  },
  {
   "cell_type": "code",
   "execution_count": 53,
   "metadata": {},
   "outputs": [],
   "source": [
    "# def create_connection():\n",
    "#     try:\n",
    "#         connection = mysql.connector.connect(**config)\n",
    "#         return connection\n",
    "#     except Error as e:\n",
    "#         st.error(f\"Error: {e}\")\n",
    "#         return None"
   ]
  },
  {
   "cell_type": "code",
   "execution_count": 54,
   "metadata": {},
   "outputs": [],
   "source": [
    "# # Function to register a new user\n",
    "# def register(username, password):\n",
    "#     conn = create_connection()\n",
    "#     if conn:\n",
    "#         cursor = conn.cursor()\n",
    "#         try:\n",
    "#             cursor.execute(\"INSERT INTO users (username, password) VALUES (%s, %s)\", (username, password))\n",
    "#             conn.commit()\n",
    "#             st.success(\"User registered successfully!\")\n",
    "#         except mysql.connector.IntegrityError:\n",
    "#             st.error(\"Username already exists.\")\n",
    "#         finally:\n",
    "#             cursor.close()\n",
    "#             conn.close()\n"
   ]
  },
  {
   "cell_type": "code",
   "execution_count": null,
   "metadata": {},
   "outputs": [],
   "source": [
    "# register('vmk', 'qwerty12345')"
   ]
  },
  {
   "cell_type": "code",
   "execution_count": 65,
   "metadata": {},
   "outputs": [],
   "source": [
    "# # def fetch_all_users():\n",
    "# conn = create_connection()\n",
    "# cursor = conn.cursor()\n",
    "\n",
    "# users_query = \" SELECT * FROM users\"\n",
    "# cursor.execute(users_query)\n",
    "# rows = cursor.fetchall()\n",
    "# columns = [col[0] for col in  cursor.description]\n",
    "\n",
    "# all_users = pd.DataFrame(rows, columns=columns)\n",
    "\n",
    "# cursor.close()\n",
    "# conn.close()"
   ]
  },
  {
   "cell_type": "code",
   "execution_count": null,
   "metadata": {},
   "outputs": [],
   "source": [
    "# all_users"
   ]
  }
 ],
 "metadata": {
  "kernelspec": {
   "display_name": "streamlit-env",
   "language": "python",
   "name": "python3"
  },
  "language_info": {
   "codemirror_mode": {
    "name": "ipython",
    "version": 3
   },
   "file_extension": ".py",
   "mimetype": "text/x-python",
   "name": "python",
   "nbconvert_exporter": "python",
   "pygments_lexer": "ipython3",
   "version": "3.12.7"
  }
 },
 "nbformat": 4,
 "nbformat_minor": 2
}
